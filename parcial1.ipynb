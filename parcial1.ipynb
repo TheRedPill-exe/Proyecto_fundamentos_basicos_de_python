{
  "nbformat": 4,
  "nbformat_minor": 0,
  "metadata": {
    "colab": {
      "provenance": [],
      "authorship_tag": "ABX9TyNHDtyV3IzHV7DEWKG4mGFi",
      "include_colab_link": true
    },
    "kernelspec": {
      "name": "python3",
      "display_name": "Python 3"
    },
    "language_info": {
      "name": "python"
    }
  },
  "cells": [
    {
      "cell_type": "markdown",
      "metadata": {
        "id": "view-in-github",
        "colab_type": "text"
      },
      "source": [
        "<a href=\"https://colab.research.google.com/github/TheRedPill-exe/Proyecto_fundamentos_basicos_de_python/blob/master/parcial1.ipynb\" target=\"_parent\"><img src=\"https://colab.research.google.com/assets/colab-badge.svg\" alt=\"Open In Colab\"/></a>"
      ]
    },
    {
      "cell_type": "code",
      "source": [
        "!pip install sodapy"
      ],
      "metadata": {
        "colab": {
          "base_uri": "https://localhost:8080/"
        },
        "id": "2KRnyREWv3xl",
        "outputId": "ef488268-e6dd-43ef-d691-c008f55e7894"
      },
      "execution_count": 2,
      "outputs": [
        {
          "output_type": "stream",
          "name": "stdout",
          "text": [
            "Collecting sodapy\n",
            "  Downloading sodapy-2.2.0-py2.py3-none-any.whl.metadata (15 kB)\n",
            "Requirement already satisfied: requests>=2.28.1 in /usr/local/lib/python3.11/dist-packages (from sodapy) (2.32.3)\n",
            "Requirement already satisfied: charset-normalizer<4,>=2 in /usr/local/lib/python3.11/dist-packages (from requests>=2.28.1->sodapy) (3.4.1)\n",
            "Requirement already satisfied: idna<4,>=2.5 in /usr/local/lib/python3.11/dist-packages (from requests>=2.28.1->sodapy) (3.10)\n",
            "Requirement already satisfied: urllib3<3,>=1.21.1 in /usr/local/lib/python3.11/dist-packages (from requests>=2.28.1->sodapy) (2.3.0)\n",
            "Requirement already satisfied: certifi>=2017.4.17 in /usr/local/lib/python3.11/dist-packages (from requests>=2.28.1->sodapy) (2025.1.31)\n",
            "Downloading sodapy-2.2.0-py2.py3-none-any.whl (15 kB)\n",
            "Installing collected packages: sodapy\n",
            "Successfully installed sodapy-2.2.0\n"
          ]
        }
      ]
    },
    {
      "cell_type": "markdown",
      "source": [
        "### Pasando el código de la primera sección a colab\n",
        "Módulo API"
      ],
      "metadata": {
        "id": "1qUrQuYyw_8W"
      }
    },
    {
      "cell_type": "code",
      "execution_count": 4,
      "metadata": {
        "id": "frHBh0yBvzhk"
      },
      "outputs": [],
      "source": [
        "import pandas as pd\n",
        "from sodapy import Socrata\n",
        "\n",
        "def get_api_client():\n",
        "    \"\"\"\n",
        "    Creates and returns a Socrata API client.\n",
        "    \"\"\"\n",
        "    return Socrata(\"www.datos.gov.co\", None)\n",
        "\n",
        "def build_query(department):\n",
        "    \"\"\"\n",
        "    Constructs the SoQL query to filter data by department.\n",
        "    \"\"\"\n",
        "    return {\"$where\": f\"departamento_nom='{department.upper()}'\"}\n",
        "\n",
        "def fetch_raw_data(client, query_params, record_limit):\n",
        "    \"\"\"\n",
        "    Fetches raw data from the API using the given client, query parameters, and record limit.\n",
        "    \"\"\"\n",
        "    try:\n",
        "        return client.get(\"gt2j-8ykr\", limit=record_limit, **query_params)\n",
        "    except Exception as e:\n",
        "        print(f\"❌ Error fetching data from API: {e}\")\n",
        "        return []\n",
        "\n",
        "def process_data(results):\n",
        "    \"\"\"\n",
        "    Processes the raw API response into a structured Pandas DataFrame with only required columns.\n",
        "    \"\"\"\n",
        "    if not results:\n",
        "        print(\"⚠ No data returned from the API.\")\n",
        "        return []\n",
        "\n",
        "    df = pd.DataFrame.from_records(results)\n",
        "\n",
        "    # Define required columns\n",
        "    required_columns = [\n",
        "        \"ciudad_municipio_nom\",\n",
        "        \"departamento_nom\",\n",
        "        \"edad\",\n",
        "        \"fuente_tipo_contagio\",\n",
        "        \"estado\",\n",
        "    ]\n",
        "\n",
        "    # Add \"pais_viajo_1_nom\" if missing\n",
        "    if \"pais_viajo_1_nom\" not in df.columns:\n",
        "        df[\"pais_viajo_1_nom\"] = \"N/A\"\n",
        "\n",
        "    required_columns.append(\"pais_viajo_1_nom\")\n",
        "\n",
        "    # Keep only the columns that are available\n",
        "    df = df[[col for col in required_columns if col in df.columns]]\n",
        "\n",
        "    return df.to_dict(orient=\"records\")\n",
        "\n",
        "def fetch_data(department, record_limit):\n",
        "    \"\"\"\n",
        "    Orchestrates the data fetching process from API to structured dictionary output.\n",
        "    \"\"\"\n",
        "    client = get_api_client()\n",
        "    query_params = build_query(department)\n",
        "    raw_data = fetch_raw_data(client, query_params, record_limit)\n",
        "    return process_data(raw_data)"
      ]
    },
    {
      "cell_type": "markdown",
      "source": [
        "Módulo UI"
      ],
      "metadata": {
        "id": "ZzEaDAyWxJz1"
      }
    },
    {
      "cell_type": "code",
      "source": [
        "def get_user_input():\n",
        "    \"\"\"\n",
        "    Asks the user for the department and the number of records to retrieve.\n",
        "    \"\"\"\n",
        "    department = input(\"Enter the department name: \")\n",
        "\n",
        "    while True:\n",
        "        try:\n",
        "            record_limit = int(input(\"Enter the number of records to retrieve: \"))\n",
        "            if record_limit > 0:\n",
        "                break\n",
        "            else:\n",
        "                print(\"The number of records must be greater than 0.\")\n",
        "        except ValueError:\n",
        "            print(\"Please enter a valid number.\")\n",
        "\n",
        "    return department, record_limit\n",
        "\n",
        "\n",
        "def display_results(data):\n",
        "    \"\"\"\n",
        "    Displays the retrieved data in a formatted table.\n",
        "    \"\"\"\n",
        "    if not data:\n",
        "        print(\"No data found for the given query.\")\n",
        "        return\n",
        "\n",
        "    print(\"\\nQuery Results:\\n\")\n",
        "    print(f\"{'City':<20} {'Department':<15} {'Age':<5} {'Type':<20} {'Status':<15} \")\n",
        "    print(\"-\" * 75)\n",
        "\n",
        "    for record in data:\n",
        "        print(f\"{record.get('ciudad_municipio_nom', 'N/A'):<20} \"\n",
        "              f\"{record.get('departamento_nom', 'N/A'):<15} \"\n",
        "              f\"{record.get('edad', 'N/A'):<5} \"\n",
        "              f\"{record.get('fuente_tipo_contagio', 'N/A'):<20} \"\n",
        "              f\"{record.get('estado', 'N/A'):<15} \")"
      ],
      "metadata": {
        "id": "iXnJDBwBwQFG"
      },
      "execution_count": 5,
      "outputs": []
    },
    {
      "cell_type": "markdown",
      "source": [
        "Módulo principal (anterior)"
      ],
      "metadata": {
        "id": "INvgDkl5xM5V"
      }
    },
    {
      "cell_type": "code",
      "source": [
        "def main():\n",
        "    #callig the function get_user_input\n",
        "    department, record_limit = get_user_input()\n",
        "    #calling the function fetch_data\n",
        "    data = fetch_data(department, record_limit)\n",
        "    #calling the function display_results\n",
        "    display_results(data)\n",
        "\n",
        "\n",
        "\n",
        "if __name__ == \"__main__\":\n",
        "    main()"
      ],
      "metadata": {
        "colab": {
          "base_uri": "https://localhost:8080/"
        },
        "id": "xylP4PWEwTBd",
        "outputId": "56043162-6c21-459c-a8c5-41d07da39566"
      },
      "execution_count": 7,
      "outputs": [
        {
          "name": "stdout",
          "output_type": "stream",
          "text": [
            "Enter the department name: risaralda\n",
            "Enter the number of records to retrieve: 10\n"
          ]
        },
        {
          "output_type": "stream",
          "name": "stderr",
          "text": [
            "WARNING:root:Requests made without an app_token will be subject to strict throttling limits.\n"
          ]
        },
        {
          "output_type": "stream",
          "name": "stdout",
          "text": [
            "\n",
            "Query Results:\n",
            "\n",
            "City                 Department      Age   Type                 Status          \n",
            "---------------------------------------------------------------------------\n",
            "BELEN DE UMBRIA      RISARALDA       81    Comunitaria          Leve            \n",
            "SANTA ROSA DE CABAL  RISARALDA       64    Comunitaria          Leve            \n",
            "SANTA ROSA DE CABAL  RISARALDA       40    Comunitaria          Leve            \n",
            "PEREIRA              RISARALDA       20    Comunitaria          Leve            \n",
            "SANTA ROSA DE CABAL  RISARALDA       20    Comunitaria          Leve            \n",
            "PEREIRA              RISARALDA       49    Comunitaria          Leve            \n",
            "DOSQUEBRADAS         RISARALDA       34    Comunitaria          Leve            \n",
            "PEREIRA              RISARALDA       17    Comunitaria          Leve            \n",
            "PEREIRA              RISARALDA       46    Comunitaria          Leve            \n",
            "PEREIRA              RISARALDA       47    Comunitaria          Leve            \n"
          ]
        }
      ]
    },
    {
      "cell_type": "markdown",
      "source": [
        "### Segunda parte\n",
        "Aplicando los procedimientos de las paginas 138 hasta la 141 del libro."
      ],
      "metadata": {
        "id": "DsmLeHxUyQZm"
      }
    },
    {
      "cell_type": "code",
      "source": [],
      "metadata": {
        "id": "BxSZn4NXwU-1"
      },
      "execution_count": null,
      "outputs": []
    }
  ]
}