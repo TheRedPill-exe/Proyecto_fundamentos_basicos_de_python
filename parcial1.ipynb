{
  "nbformat": 4,
  "nbformat_minor": 0,
  "metadata": {
    "colab": {
      "provenance": [],
      "authorship_tag": "ABX9TyMzkrswIYwwxg16xYo+gOl6",
      "include_colab_link": true
    },
    "kernelspec": {
      "name": "python3",
      "display_name": "Python 3"
    },
    "language_info": {
      "name": "python"
    }
  },
  "cells": [
    {
      "cell_type": "markdown",
      "metadata": {
        "id": "view-in-github",
        "colab_type": "text"
      },
      "source": [
        "<a href=\"https://colab.research.google.com/github/TheRedPill-exe/Proyecto_fundamentos_basicos_de_python/blob/master/parcial1.ipynb\" target=\"_parent\"><img src=\"https://colab.research.google.com/assets/colab-badge.svg\" alt=\"Open In Colab\"/></a>"
      ]
    },
    {
      "cell_type": "code",
      "source": [
        "!pip install sodapy"
      ],
      "metadata": {
        "colab": {
          "base_uri": "https://localhost:8080/"
        },
        "id": "2KRnyREWv3xl",
        "outputId": "bf663953-96e2-4140-e473-895585fb37bc"
      },
      "execution_count": 5,
      "outputs": [
        {
          "output_type": "stream",
          "name": "stdout",
          "text": [
            "Collecting sodapy\n",
            "  Downloading sodapy-2.2.0-py2.py3-none-any.whl.metadata (15 kB)\n",
            "Requirement already satisfied: requests>=2.28.1 in /usr/local/lib/python3.11/dist-packages (from sodapy) (2.32.3)\n",
            "Requirement already satisfied: charset-normalizer<4,>=2 in /usr/local/lib/python3.11/dist-packages (from requests>=2.28.1->sodapy) (3.4.1)\n",
            "Requirement already satisfied: idna<4,>=2.5 in /usr/local/lib/python3.11/dist-packages (from requests>=2.28.1->sodapy) (3.10)\n",
            "Requirement already satisfied: urllib3<3,>=1.21.1 in /usr/local/lib/python3.11/dist-packages (from requests>=2.28.1->sodapy) (2.3.0)\n",
            "Requirement already satisfied: certifi>=2017.4.17 in /usr/local/lib/python3.11/dist-packages (from requests>=2.28.1->sodapy) (2025.1.31)\n",
            "Downloading sodapy-2.2.0-py2.py3-none-any.whl (15 kB)\n",
            "Installing collected packages: sodapy\n",
            "Successfully installed sodapy-2.2.0\n"
          ]
        }
      ]
    },
    {
      "cell_type": "markdown",
      "source": [
        "### Pasando el código de la primera sección a colab\n",
        "Módulo API"
      ],
      "metadata": {
        "id": "1qUrQuYyw_8W"
      }
    },
    {
      "cell_type": "code",
      "execution_count": 6,
      "metadata": {
        "id": "frHBh0yBvzhk"
      },
      "outputs": [],
      "source": [
        "import pandas as pd\n",
        "from sodapy import Socrata\n",
        "\n",
        "def get_api_client():\n",
        "    \"\"\"\n",
        "    Creates and returns a Socrata API client.\n",
        "    \"\"\"\n",
        "    return Socrata(\"www.datos.gov.co\", None)\n",
        "\n",
        "def build_query(department):\n",
        "    \"\"\"\n",
        "    Constructs the SoQL query to filter data by department.\n",
        "    \"\"\"\n",
        "    return {\"$where\": f\"departamento_nom='{department.upper()}'\"}\n",
        "\n",
        "def fetch_raw_data(client, query_params, record_limit):\n",
        "    \"\"\"\n",
        "    Fetches raw data from the API using the given client, query parameters, and record limit.\n",
        "    \"\"\"\n",
        "    try:\n",
        "        return client.get(\"gt2j-8ykr\", limit=record_limit, **query_params)\n",
        "    except Exception as e:\n",
        "        print(f\"❌ Error fetching data from API: {e}\")\n",
        "        return []\n",
        "\n",
        "def process_data(results):\n",
        "    \"\"\"\n",
        "    Processes the raw API response into a structured Pandas DataFrame with only required columns.\n",
        "    \"\"\"\n",
        "    if not results:\n",
        "        print(\"⚠ No data returned from the API.\")\n",
        "        return []\n",
        "\n",
        "    df = pd.DataFrame.from_records(results)\n",
        "\n",
        "    # Define required columns\n",
        "    required_columns = [\n",
        "        \"ciudad_municipio_nom\",\n",
        "        \"departamento_nom\",\n",
        "        \"edad\",\n",
        "        \"fuente_tipo_contagio\",\n",
        "        \"estado\",\n",
        "    ]\n",
        "\n",
        "    # Add \"pais_viajo_1_nom\" if missing\n",
        "    if \"pais_viajo_1_nom\" not in df.columns:\n",
        "        df[\"pais_viajo_1_nom\"] = \"N/A\"\n",
        "\n",
        "    required_columns.append(\"pais_viajo_1_nom\")\n",
        "\n",
        "    # Keep only the columns that are available\n",
        "    df = df[[col for col in required_columns if col in df.columns]]\n",
        "\n",
        "    return df.to_dict(orient=\"records\")\n",
        "\n",
        "def fetch_data(department, record_limit):\n",
        "    \"\"\"\n",
        "    Orchestrates the data fetching process from API to structured dictionary output.\n",
        "    \"\"\"\n",
        "    client = get_api_client()\n",
        "    query_params = build_query(department)\n",
        "    raw_data = fetch_raw_data(client, query_params, record_limit)\n",
        "    return process_data(raw_data)"
      ]
    },
    {
      "cell_type": "markdown",
      "source": [
        "Módulo UI"
      ],
      "metadata": {
        "id": "ZzEaDAyWxJz1"
      }
    },
    {
      "cell_type": "code",
      "source": [
        "def get_user_input():\n",
        "    \"\"\"\n",
        "    Asks the user for the department and the number of records to retrieve.\n",
        "    \"\"\"\n",
        "    department = input(\"Enter the department name: \")\n",
        "\n",
        "    while True:\n",
        "        try:\n",
        "            record_limit = int(input(\"Enter the number of records to retrieve: \"))\n",
        "            if record_limit > 0:\n",
        "                break\n",
        "            else:\n",
        "                print(\"The number of records must be greater than 0.\")\n",
        "        except ValueError:\n",
        "            print(\"Please enter a valid number.\")\n",
        "\n",
        "    return department, record_limit\n",
        "\n",
        "\n",
        "def display_results(data):\n",
        "    \"\"\"\n",
        "    Displays the retrieved data in a formatted table.\n",
        "    \"\"\"\n",
        "    if not data:\n",
        "        print(\"No data found for the given query.\")\n",
        "        return\n",
        "\n",
        "    print(\"\\nQuery Results:\\n\")\n",
        "    print(f\"{'City':<20} {'Department':<15} {'Age':<5} {'Type':<20} {'Status':<15} \")\n",
        "    print(\"-\" * 75)\n",
        "\n",
        "    for record in data:\n",
        "        print(f\"{record.get('ciudad_municipio_nom', 'N/A'):<20} \"\n",
        "              f\"{record.get('departamento_nom', 'N/A'):<15} \"\n",
        "              f\"{record.get('edad', 'N/A'):<5} \"\n",
        "              f\"{record.get('fuente_tipo_contagio', 'N/A'):<20} \"\n",
        "              f\"{record.get('estado', 'N/A'):<15} \")"
      ],
      "metadata": {
        "id": "iXnJDBwBwQFG"
      },
      "execution_count": 7,
      "outputs": []
    },
    {
      "cell_type": "markdown",
      "source": [
        "Módulo principal (anterior)"
      ],
      "metadata": {
        "id": "INvgDkl5xM5V"
      }
    },
    {
      "cell_type": "code",
      "source": [
        "def main():\n",
        "    #callig the function get_user_input\n",
        "    department, record_limit = get_user_input()\n",
        "    #calling the function fetch_data\n",
        "    data = fetch_data(department, record_limit)\n",
        "    #calling the function display_results\n",
        "    display_results(data)\n",
        "\n",
        "\n",
        "\n",
        "if __name__ == \"__main__\":\n",
        "    main()"
      ],
      "metadata": {
        "colab": {
          "base_uri": "https://localhost:8080/"
        },
        "id": "xylP4PWEwTBd",
        "outputId": "dde29c26-680f-4ce7-81a5-a2a0d432c08a"
      },
      "execution_count": null,
      "outputs": [
        {
          "name": "stdout",
          "output_type": "stream",
          "text": [
            "Enter the department name: risaralda\n",
            "Enter the number of records to retrieve: 20\n"
          ]
        },
        {
          "output_type": "stream",
          "name": "stderr",
          "text": [
            "WARNING:root:Requests made without an app_token will be subject to strict throttling limits.\n"
          ]
        },
        {
          "output_type": "stream",
          "name": "stdout",
          "text": [
            "\n",
            "Query Results:\n",
            "\n",
            "City                 Department      Age   Type                 Status          \n",
            "---------------------------------------------------------------------------\n",
            "BELEN DE UMBRIA      RISARALDA       81    Comunitaria          Leve            \n",
            "SANTA ROSA DE CABAL  RISARALDA       64    Comunitaria          Leve            \n",
            "SANTA ROSA DE CABAL  RISARALDA       40    Comunitaria          Leve            \n",
            "PEREIRA              RISARALDA       20    Comunitaria          Leve            \n",
            "SANTA ROSA DE CABAL  RISARALDA       20    Comunitaria          Leve            \n",
            "PEREIRA              RISARALDA       49    Comunitaria          Leve            \n",
            "DOSQUEBRADAS         RISARALDA       34    Comunitaria          Leve            \n",
            "PEREIRA              RISARALDA       17    Comunitaria          Leve            \n",
            "PEREIRA              RISARALDA       46    Comunitaria          Leve            \n",
            "PEREIRA              RISARALDA       47    Comunitaria          Leve            \n",
            "DOSQUEBRADAS         RISARALDA       64    Comunitaria          Leve            \n",
            "DOSQUEBRADAS         RISARALDA       39    Comunitaria          Leve            \n",
            "PEREIRA              RISARALDA       24    Comunitaria          Leve            \n",
            "PEREIRA              RISARALDA       61    Comunitaria          Leve            \n",
            "PEREIRA              RISARALDA       57    Comunitaria          Leve            \n",
            "DOSQUEBRADAS         RISARALDA       34    Comunitaria          Leve            \n",
            "DOSQUEBRADAS         RISARALDA       64    Comunitaria          Leve            \n",
            "DOSQUEBRADAS         RISARALDA       38    Comunitaria          Leve            \n",
            "DOSQUEBRADAS         RISARALDA       45    Comunitaria          Leve            \n",
            "DOSQUEBRADAS         RISARALDA       47    Comunitaria          Leve            \n"
          ]
        }
      ]
    },
    {
      "cell_type": "markdown",
      "source": [
        "### Segunda parte\n",
        "Aplicando los procedimientos de las paginas 138 hasta la 141 del libro."
      ],
      "metadata": {
        "id": "DsmLeHxUyQZm"
      }
    },
    {
      "cell_type": "code",
      "source": [
        "def explore_data(df):\n",
        "    \"\"\"\n",
        "    Imprime información exploratoria del DataFrame:\n",
        "    - Número de filas y columnas\n",
        "    - Nombres y tipos de datos de las columnas\n",
        "    - Columnas con valores faltantes, cantidad de filas afectadas e índices de ejemplo\n",
        "    - Estadísticas generales (info() y describe())\n",
        "    \"\"\"\n",
        "    print(\"Number of rows:\", df.shape[0])\n",
        "    print(\"Number of columns:\", df.shape[1])\n",
        "    print(\"Column Names:\", df.columns.values.tolist())\n",
        "    print(\"Column Data Types:\\n\", df.dtypes)\n",
        "\n",
        "    print(\"Columns with Missing Values:\", df.columns[df.isnull().any()].tolist())\n",
        "    missing_indices = pd.isnull(df).any(axis=1).to_numpy().nonzero()[0].tolist()\n",
        "    print(\"Number of rows with Missing Values:\", len(missing_indices))\n",
        "    print(\"Sample Indices with missing data:\", missing_indices[:5])\n",
        "\n",
        "    print(\"General Stats:\")\n",
        "    df.info()  # Imprime información general del DataFrame\n",
        "    print(\"Summary Stats:\")\n",
        "    print(df.describe())\n"
      ],
      "metadata": {
        "id": "BxSZn4NXwU-1"
      },
      "execution_count": 8,
      "outputs": []
    },
    {
      "cell_type": "code",
      "source": [
        "def cleanup_column_names(df, rename_dict={}, do_inplace=True):\n",
        "    \"\"\"\n",
        "    Renombra las columnas de un DataFrame.\n",
        "    Si no se proporciona un diccionario de renombre (rename_dict),\n",
        "    convierte los nombres a snake_case (minúsculas y reemplaza espacios por '_').\n",
        "\n",
        "    Args:\n",
        "        rename_dict (dict): Diccionario con mapeo {nombre_viejo: nombre_nuevo}.\n",
        "        do_inplace (bool): Si es True, modifica el DataFrame original; de lo contrario, retorna uno nuevo.\n",
        "\n",
        "    Returns:\n",
        "        Si do_inplace es False, retorna el DataFrame renombrado; en caso contrario, retorna None.\n",
        "    \"\"\"\n",
        "    if not rename_dict:\n",
        "        return df.rename(columns={col: col.lower().replace(' ', '_') for col in df.columns.values.tolist()},\n",
        "                         inplace=do_inplace)\n",
        "    else:\n",
        "        return df.rename(columns=rename_dict, inplace=do_inplace)\n"
      ],
      "metadata": {
        "id": "WENcXmJs0Mol"
      },
      "execution_count": 9,
      "outputs": []
    },
    {
      "cell_type": "code",
      "source": [
        "# prompt: usa las funciones que acabamos de crear\n",
        "\n",
        "def main():\n",
        "    #callig the function get_user_input\n",
        "    department, record_limit = get_user_input()\n",
        "    #calling the function fetch_data\n",
        "    data = fetch_data(department, record_limit)\n",
        "\n",
        "    if data:\n",
        "        df = pd.DataFrame(data)\n",
        "        explore_data(df)\n",
        "        cleanup_column_names(df) #Aplica la funcion cleanup\n",
        "        print(df.head()) #Imprime las primeras filas del DataFrame\n",
        "    else:\n",
        "        print(\"No data to process.\")\n",
        "\n",
        "if __name__ == \"__main__\":\n",
        "    main()\n"
      ],
      "metadata": {
        "colab": {
          "base_uri": "https://localhost:8080/"
        },
        "id": "sGmmGt6x0iLD",
        "outputId": "49751980-e33a-4506-d768-da4b8922e029"
      },
      "execution_count": null,
      "outputs": [
        {
          "name": "stdout",
          "output_type": "stream",
          "text": [
            "Enter the department name: risaralda\n",
            "Enter the number of records to retrieve: 10\n"
          ]
        },
        {
          "output_type": "stream",
          "name": "stderr",
          "text": [
            "WARNING:root:Requests made without an app_token will be subject to strict throttling limits.\n"
          ]
        },
        {
          "output_type": "stream",
          "name": "stdout",
          "text": [
            "Number of rows: 10\n",
            "Number of columns: 6\n",
            "Column Names: ['ciudad_municipio_nom', 'departamento_nom', 'edad', 'fuente_tipo_contagio', 'estado', 'pais_viajo_1_nom']\n",
            "Column Data Types:\n",
            " ciudad_municipio_nom    object\n",
            "departamento_nom        object\n",
            "edad                    object\n",
            "fuente_tipo_contagio    object\n",
            "estado                  object\n",
            "pais_viajo_1_nom        object\n",
            "dtype: object\n",
            "Columns with Missing Values: []\n",
            "Number of rows with Missing Values: 0\n",
            "Sample Indices with missing data: []\n",
            "General Stats:\n",
            "<class 'pandas.core.frame.DataFrame'>\n",
            "RangeIndex: 10 entries, 0 to 9\n",
            "Data columns (total 6 columns):\n",
            " #   Column                Non-Null Count  Dtype \n",
            "---  ------                --------------  ----- \n",
            " 0   ciudad_municipio_nom  10 non-null     object\n",
            " 1   departamento_nom      10 non-null     object\n",
            " 2   edad                  10 non-null     object\n",
            " 3   fuente_tipo_contagio  10 non-null     object\n",
            " 4   estado                10 non-null     object\n",
            " 5   pais_viajo_1_nom      10 non-null     object\n",
            "dtypes: object(6)\n",
            "memory usage: 612.0+ bytes\n",
            "Summary Stats:\n",
            "       ciudad_municipio_nom departamento_nom edad fuente_tipo_contagio estado  \\\n",
            "count                    10               10   10                   10     10   \n",
            "unique                    4                1    9                    1      1   \n",
            "top                 PEREIRA        RISARALDA   20          Comunitaria   Leve   \n",
            "freq                      5               10    2                   10     10   \n",
            "\n",
            "       pais_viajo_1_nom  \n",
            "count                10  \n",
            "unique                1  \n",
            "top                 N/A  \n",
            "freq                 10  \n",
            "  ciudad_municipio_nom departamento_nom edad fuente_tipo_contagio estado  \\\n",
            "0      BELEN DE UMBRIA        RISARALDA   81          Comunitaria   Leve   \n",
            "1  SANTA ROSA DE CABAL        RISARALDA   64          Comunitaria   Leve   \n",
            "2  SANTA ROSA DE CABAL        RISARALDA   40          Comunitaria   Leve   \n",
            "3              PEREIRA        RISARALDA   20          Comunitaria   Leve   \n",
            "4  SANTA ROSA DE CABAL        RISARALDA   20          Comunitaria   Leve   \n",
            "\n",
            "  pais_viajo_1_nom  \n",
            "0              N/A  \n",
            "1              N/A  \n",
            "2              N/A  \n",
            "3              N/A  \n",
            "4              N/A  \n"
          ]
        }
      ]
    },
    {
      "cell_type": "code",
      "source": [
        "import matplotlib.pyplot as plt\n",
        "import pandas as pd\n",
        "import seaborn as sns\n",
        "\n",
        "def plot_data():\n",
        "    # Obtener datos de la función fetch_data\n",
        "    department, record_limit = get_user_input()\n",
        "    data = fetch_data(department, record_limit)\n",
        "\n",
        "    if not data:\n",
        "        print(\"No data available to plot.\")\n",
        "        return\n",
        "\n",
        "    # Convertir datos a DataFrame\n",
        "    df = pd.DataFrame(data)\n",
        "\n",
        "    # Configurar el estilo de Seaborn\n",
        "    sns.set_theme(style=\"whitegrid\")\n",
        "\n",
        "    # Crear figura y ejes\n",
        "    plt.figure(figsize=(12, 6))\n",
        "\n",
        "    # Ordenar datos por ciudad y contar casos\n",
        "    city_counts = df['ciudad_municipio_nom'].value_counts()\n",
        "\n",
        "    # Crear gráfico de barras\n",
        "    sns.barplot(\n",
        "        x=city_counts.index,\n",
        "        y=city_counts.values,\n",
        "        palette=\"viridis\"\n",
        "    )\n",
        "\n",
        "    # Etiquetas y título\n",
        "    plt.xlabel(\"City\", fontsize=12)\n",
        "    plt.ylabel(\"Number of Cases\", fontsize=12)\n",
        "    plt.title(\"COVID-19 Cases by City\", fontsize=14)\n",
        "    plt.xticks(rotation=45, ha='right')\n",
        "\n",
        "    # Mostrar gráfico\n",
        "    plt.show()\n",
        "\n",
        "# Llamar a la función para graficar\n",
        "plot_data()\n"
      ],
      "metadata": {
        "id": "j78q2WLf2uc0",
        "colab": {
          "base_uri": "https://localhost:8080/",
          "height": 835
        },
        "outputId": "b6b1ba23-9ef1-45ae-a4cc-6624e7d2a8b9"
      },
      "execution_count": 11,
      "outputs": [
        {
          "name": "stdout",
          "output_type": "stream",
          "text": [
            "Enter the department name: risaralda\n",
            "Enter the number of records to retrieve: 40\n"
          ]
        },
        {
          "output_type": "stream",
          "name": "stderr",
          "text": [
            "WARNING:root:Requests made without an app_token will be subject to strict throttling limits.\n",
            "<ipython-input-11-5f01b1046d3d>:27: FutureWarning: \n",
            "\n",
            "Passing `palette` without assigning `hue` is deprecated and will be removed in v0.14.0. Assign the `x` variable to `hue` and set `legend=False` for the same effect.\n",
            "\n",
            "  sns.barplot(\n"
          ]
        },
        {
          "output_type": "display_data",
          "data": {
            "text/plain": [
              "<Figure size 1200x600 with 1 Axes>"
            ],
            "image/png": "[encoded data removed]"
          },
          "metadata": {}
        }
      ]
    },
    {
      "cell_type": "code",
      "source": [],
      "metadata": {
        "id": "dWLDUoVzp31E"
      },
      "execution_count": null,
      "outputs": []
    }
  ]
}